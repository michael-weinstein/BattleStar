{
 "cells": [
  {
   "cell_type": "code",
   "execution_count": 1,
   "metadata": {
    "collapsed": true
   },
   "outputs": [],
   "source": [
    "import pandas\n",
    "import numpy\n",
    "import matplotlib\n",
    "%matplotlib inline "
   ]
  },
  {
   "cell_type": "code",
   "execution_count": 2,
   "metadata": {
    "collapsed": true
   },
   "outputs": [],
   "source": [
    "data = pandas.read_pickle(\"output.pandas.pkl\")"
   ]
  },
  {
   "cell_type": "code",
   "execution_count": 4,
   "metadata": {
    "collapsed": true
   },
   "outputs": [],
   "source": [
    "data = data.replace(\"\",numpy.nan)"
   ]
  },
  {
   "cell_type": "code",
   "execution_count": 5,
   "metadata": {
    "collapsed": true
   },
   "outputs": [],
   "source": [
    "description = data.describe()"
   ]
  },
  {
   "cell_type": "code",
   "execution_count": 6,
   "metadata": {
    "collapsed": true
   },
   "outputs": [],
   "source": [
    "dictDes = dict(description)"
   ]
  },
  {
   "cell_type": "code",
   "execution_count": 9,
   "metadata": {
    "collapsed": false
   },
   "outputs": [
    {
     "data": {
      "text/plain": [
       "(2268905, 205)"
      ]
     },
     "execution_count": 9,
     "metadata": {},
     "output_type": "execute_result"
    }
   ],
   "source": [
    "shape = data.shape\n",
    "shape"
   ]
  },
  {
   "cell_type": "code",
   "execution_count": 10,
   "metadata": {
    "collapsed": false
   },
   "outputs": [
    {
     "data": {
      "text/plain": [
       "2268905"
      ]
     },
     "execution_count": 10,
     "metadata": {},
     "output_type": "execute_result"
    }
   ],
   "source": [
    "totalRows = shape[0]\n",
    "totalRows"
   ]
  },
  {
   "cell_type": "code",
   "execution_count": 17,
   "metadata": {
    "collapsed": true
   },
   "outputs": [],
   "source": [
    "percentValid = []\n",
    "sampleNames = []\n",
    "for key in list(dictDes.keys()):\n",
    "    percentValid.append(dictDes[key][0]/totalRows)\n",
    "    sampleNames.append(key)"
   ]
  },
  {
   "cell_type": "code",
   "execution_count": 18,
   "metadata": {
    "collapsed": false
   },
   "outputs": [
    {
     "data": {
      "text/html": [
       "<div>\n",
       "<table border=\"1\" class=\"dataframe\">\n",
       "  <thead>\n",
       "    <tr style=\"text-align: right;\">\n",
       "      <th></th>\n",
       "      <th>0</th>\n",
       "    </tr>\n",
       "  </thead>\n",
       "  <tbody>\n",
       "    <tr>\n",
       "      <th>AT18_index_23_trimmed</th>\n",
       "      <td>0.947630</td>\n",
       "    </tr>\n",
       "    <tr>\n",
       "      <th>AT19_index_23_trimmed</th>\n",
       "      <td>0.968977</td>\n",
       "    </tr>\n",
       "    <tr>\n",
       "      <th>AT1_index_20_trimmed</th>\n",
       "      <td>0.748902</td>\n",
       "    </tr>\n",
       "    <tr>\n",
       "      <th>AT4_index_23_trimmed</th>\n",
       "      <td>0.975638</td>\n",
       "    </tr>\n",
       "    <tr>\n",
       "      <th>AT26_index_21_trimmed</th>\n",
       "      <td>0.569556</td>\n",
       "    </tr>\n",
       "  </tbody>\n",
       "</table>\n",
       "</div>"
      ],
      "text/plain": [
       "                              0\n",
       "AT18_index_23_trimmed  0.947630\n",
       "AT19_index_23_trimmed  0.968977\n",
       "AT1_index_20_trimmed   0.748902\n",
       "AT4_index_23_trimmed   0.975638\n",
       "AT26_index_21_trimmed  0.569556"
      ]
     },
     "execution_count": 18,
     "metadata": {},
     "output_type": "execute_result"
    }
   ],
   "source": [
    "validMatrix = pandas.DataFrame(percentValid, sampleNames)\n",
    "validMatrix.head()"
   ]
  },
  {
   "cell_type": "code",
   "execution_count": 38,
   "metadata": {
    "collapsed": false
   },
   "outputs": [
    {
     "data": {
      "text/plain": [
       "<matplotlib.text.Text at 0x153fe7a90>"
      ]
     },
     "execution_count": 38,
     "metadata": {},
     "output_type": "execute_result"
    },
    {
     "data": {
      "image/png": "[encoded data removed]",
      "text/plain": [
       "<matplotlib.figure.Figure at 0x15418dba8>"
      ]
     },
     "metadata": {},
     "output_type": "display_data"
    }
   ],
   "source": [
    "validPlot = validMatrix[0].hist(bins = 100)\n",
    "validPlot.set_title(\"BSseq METSIM data by sample\")\n",
    "validPlot.set_xlabel(\"Percent Filled\")\n",
    "validPlot.set_ylabel(\"Samples\")"
   ]
  },
  {
   "cell_type": "code",
   "execution_count": 31,
   "metadata": {
    "collapsed": false
   },
   "outputs": [
    {
     "data": {
      "text/html": [
       "<div>\n",
       "<table border=\"1\" class=\"dataframe\">\n",
       "  <thead>\n",
       "    <tr style=\"text-align: right;\">\n",
       "      <th></th>\n",
       "      <th>0</th>\n",
       "    </tr>\n",
       "  </thead>\n",
       "  <tbody>\n",
       "    <tr>\n",
       "      <th>15:50984856</th>\n",
       "      <td>0.970732</td>\n",
       "    </tr>\n",
       "    <tr>\n",
       "      <th>1:2365676</th>\n",
       "      <td>0.941463</td>\n",
       "    </tr>\n",
       "    <tr>\n",
       "      <th>22:31404296</th>\n",
       "      <td>0.897561</td>\n",
       "    </tr>\n",
       "    <tr>\n",
       "      <th>3:43122130</th>\n",
       "      <td>0.902439</td>\n",
       "    </tr>\n",
       "    <tr>\n",
       "      <th>16:894984</th>\n",
       "      <td>0.917073</td>\n",
       "    </tr>\n",
       "  </tbody>\n",
       "</table>\n",
       "</div>"
      ],
      "text/plain": [
       "                    0\n",
       "15:50984856  0.970732\n",
       "1:2365676    0.941463\n",
       "22:31404296  0.897561\n",
       "3:43122130   0.902439\n",
       "16:894984    0.917073"
      ]
     },
     "execution_count": 31,
     "metadata": {},
     "output_type": "execute_result"
    }
   ],
   "source": [
    "totalColumns = data.shape[1]\n",
    "dCount = dict(data.count(axis=1))\n",
    "locusNames = []\n",
    "percentages = []\n",
    "for key in list(dCount.keys()):\n",
    "    locusNames.append(key)\n",
    "    percentages.append(dCount[key]/totalColumns)\n",
    "byLocus = pandas.DataFrame(percentages, locusNames)\n",
    "byLocus.head()"
   ]
  },
  {
   "cell_type": "code",
   "execution_count": 40,
   "metadata": {
    "collapsed": false
   },
   "outputs": [
    {
     "data": {
      "text/plain": [
       "<matplotlib.text.Text at 0x1544f2978>"
      ]
     },
     "execution_count": 40,
     "metadata": {},
     "output_type": "execute_result"
    },
    {
     "data": {
      "image/png": "[encoded data removed]",
      "text/plain": [
       "<matplotlib.figure.Figure at 0x1541f1d68>"
      ]
     },
     "metadata": {},
     "output_type": "display_data"
    }
   ],
   "source": [
    "validPlot2 = byLocus[0].hist(bins = 50)\n",
    "validPlot2.set_title(\"BSseq METSIM data by Locus\")\n",
    "validPlot2.set_xlabel(\"Percent Filled\")\n",
    "validPlot2.set_ylabel(\"Loci\")"
   ]
  },
  {
   "cell_type": "code",
   "execution_count": null,
   "metadata": {
    "collapsed": true
   },
   "outputs": [],
   "source": []
  }
 ],
 "metadata": {
  "kernelspec": {
   "display_name": "Python 3",
   "language": "python",
   "name": "python3"
  },
  "language_info": {
   "codemirror_mode": {
    "name": "ipython",
    "version": 3
   },
   "file_extension": ".py",
   "mimetype": "text/x-python",
   "name": "python",
   "nbconvert_exporter": "python",
   "pygments_lexer": "ipython3",
   "version": "3.4.3"
  }
 },
 "nbformat": 4,
 "nbformat_minor": 0
}
