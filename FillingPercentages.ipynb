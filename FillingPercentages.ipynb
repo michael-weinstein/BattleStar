{
 "cells": [
  {
   "cell_type": "code",
   "execution_count": 1,
   "metadata": {
    "collapsed": true
   },
   "outputs": [],
   "source": [
    "import pandas\n",
    "import numpy\n",
    "import matplotlib\n",
    "%matplotlib inline "
   ]
  },
  {
   "cell_type": "code",
   "execution_count": 2,
   "metadata": {
    "collapsed": true
   },
   "outputs": [],
   "source": [
    "data = pandas.read_pickle(\"output.pandas.pkl\")"
   ]
  },
  {
   "cell_type": "code",
   "execution_count": 3,
   "metadata": {
    "collapsed": true
   },
   "outputs": [],
   "source": [
    "data = data.replace(\"\",numpy.nan)"
   ]
  },
  {
   "cell_type": "code",
   "execution_count": 4,
   "metadata": {
    "collapsed": true
   },
   "outputs": [],
   "source": [
    "description = data.describe()"
   ]
  },
  {
   "cell_type": "code",
   "execution_count": 5,
   "metadata": {
    "collapsed": true
   },
   "outputs": [],
   "source": [
    "dictDes = dict(description)"
   ]
  },
  {
   "cell_type": "code",
   "execution_count": 6,
   "metadata": {
    "collapsed": false
   },
   "outputs": [
    {
     "data": {
      "text/plain": [
       "(2268905, 205)"
      ]
     },
     "execution_count": 6,
     "metadata": {},
     "output_type": "execute_result"
    }
   ],
   "source": [
    "shape = data.shape\n",
    "shape"
   ]
  },
  {
   "cell_type": "code",
   "execution_count": 7,
   "metadata": {
    "collapsed": false
   },
   "outputs": [
    {
     "data": {
      "text/plain": [
       "2268905"
      ]
     },
     "execution_count": 7,
     "metadata": {},
     "output_type": "execute_result"
    }
   ],
   "source": [
    "totalRows = shape[0]\n",
    "totalRows"
   ]
  },
  {
   "cell_type": "code",
   "execution_count": 8,
   "metadata": {
    "collapsed": true
   },
   "outputs": [],
   "source": [
    "percentValid = []\n",
    "sampleNames = []\n",
    "for key in list(dictDes.keys()):\n",
    "    percentValid.append(dictDes[key][0]/totalRows)\n",
    "    sampleNames.append(key)"
   ]
  },
  {
   "cell_type": "code",
   "execution_count": 9,
   "metadata": {
    "collapsed": false
   },
   "outputs": [
    {
     "data": {
      "text/html": [
       "<div>\n",
       "<table border=\"1\" class=\"dataframe\">\n",
       "  <thead>\n",
       "    <tr style=\"text-align: right;\">\n",
       "      <th></th>\n",
       "      <th>0</th>\n",
       "    </tr>\n",
       "  </thead>\n",
       "  <tbody>\n",
       "    <tr>\n",
       "      <th>AT22_index_21_trimmed</th>\n",
       "      <td>0.974517</td>\n",
       "    </tr>\n",
       "    <tr>\n",
       "      <th>AT16_index_23_trimmed</th>\n",
       "      <td>0.947785</td>\n",
       "    </tr>\n",
       "    <tr>\n",
       "      <th>AT18_index_22_trimmed</th>\n",
       "      <td>0.963523</td>\n",
       "    </tr>\n",
       "    <tr>\n",
       "      <th>AT34_index_22_trimmed</th>\n",
       "      <td>0.944958</td>\n",
       "    </tr>\n",
       "    <tr>\n",
       "      <th>AT2_index_20_trimmed</th>\n",
       "      <td>0.724959</td>\n",
       "    </tr>\n",
       "  </tbody>\n",
       "</table>\n",
       "</div>"
      ],
      "text/plain": [
       "                              0\n",
       "AT22_index_21_trimmed  0.974517\n",
       "AT16_index_23_trimmed  0.947785\n",
       "AT18_index_22_trimmed  0.963523\n",
       "AT34_index_22_trimmed  0.944958\n",
       "AT2_index_20_trimmed   0.724959"
      ]
     },
     "execution_count": 9,
     "metadata": {},
     "output_type": "execute_result"
    }
   ],
   "source": [
    "validMatrix = pandas.DataFrame(percentValid, sampleNames)\n",
    "validMatrix.head()"
   ]
  },
  {
   "cell_type": "code",
   "execution_count": 10,
   "metadata": {
    "collapsed": false
   },
   "outputs": [
    {
     "data": {
      "text/plain": [
       "<matplotlib.text.Text at 0x47d2fec88>"
      ]
     },
     "execution_count": 10,
     "metadata": {},
     "output_type": "execute_result"
    },
    {
     "data": {
      "image/png": "[encoded data removed]",
      "text/plain": [
       "<matplotlib.figure.Figure at 0x47d3252b0>"
      ]
     },
     "metadata": {},
     "output_type": "display_data"
    }
   ],
   "source": [
    "validPlot = validMatrix[0].hist(bins = 100)\n",
    "validPlot.set_title(\"BSseq METSIM data by sample\")\n",
    "validPlot.set_xlabel(\"Percent Filled\")\n",
    "validPlot.set_ylabel(\"Samples\")"
   ]
  },
  {
   "cell_type": "code",
   "execution_count": 11,
   "metadata": {
    "collapsed": false
   },
   "outputs": [
    {
     "data": {
      "text/html": [
       "<div>\n",
       "<table border=\"1\" class=\"dataframe\">\n",
       "  <thead>\n",
       "    <tr style=\"text-align: right;\">\n",
       "      <th></th>\n",
       "      <th>0</th>\n",
       "    </tr>\n",
       "  </thead>\n",
       "  <tbody>\n",
       "    <tr>\n",
       "      <th>17:73083386</th>\n",
       "      <td>0.946341</td>\n",
       "    </tr>\n",
       "    <tr>\n",
       "      <th>22:50122802</th>\n",
       "      <td>0.980488</td>\n",
       "    </tr>\n",
       "    <tr>\n",
       "      <th>13:112848692</th>\n",
       "      <td>0.951220</td>\n",
       "    </tr>\n",
       "    <tr>\n",
       "      <th>20:2854354</th>\n",
       "      <td>0.980488</td>\n",
       "    </tr>\n",
       "    <tr>\n",
       "      <th>4:8197077</th>\n",
       "      <td>1.000000</td>\n",
       "    </tr>\n",
       "  </tbody>\n",
       "</table>\n",
       "</div>"
      ],
      "text/plain": [
       "                     0\n",
       "17:73083386   0.946341\n",
       "22:50122802   0.980488\n",
       "13:112848692  0.951220\n",
       "20:2854354    0.980488\n",
       "4:8197077     1.000000"
      ]
     },
     "execution_count": 11,
     "metadata": {},
     "output_type": "execute_result"
    }
   ],
   "source": [
    "totalColumns = data.shape[1]\n",
    "dCount = dict(data.count(axis=1))\n",
    "locusNames = []\n",
    "percentages = []\n",
    "for key in list(dCount.keys()):\n",
    "    locusNames.append(key)\n",
    "    percentages.append(dCount[key]/totalColumns)\n",
    "byLocus = pandas.DataFrame(percentages, locusNames)\n",
    "byLocus.head()"
   ]
  },
  {
   "cell_type": "code",
   "execution_count": 12,
   "metadata": {
    "collapsed": false
   },
   "outputs": [
    {
     "data": {
      "text/plain": [
       "<matplotlib.text.Text at 0x118b5f208>"
      ]
     },
     "execution_count": 12,
     "metadata": {},
     "output_type": "execute_result"
    },
    {
     "data": {
      "image/png": "[encoded data removed]",
      "text/plain": [
       "<matplotlib.figure.Figure at 0x111cd4160>"
      ]
     },
     "metadata": {},
     "output_type": "display_data"
    }
   ],
   "source": [
    "validPlot2 = byLocus[0].hist(bins = 50)\n",
    "validPlot2.set_title(\"BSseq METSIM data by Locus\")\n",
    "validPlot2.set_xlabel(\"Percent Filled\")\n",
    "validPlot2.set_ylabel(\"Loci\")"
   ]
  },
  {
   "cell_type": "code",
   "execution_count": 13,
   "metadata": {
    "collapsed": false
   },
   "outputs": [
    {
     "data": {
      "text/plain": [
       "2110081"
      ]
     },
     "execution_count": 13,
     "metadata": {},
     "output_type": "execute_result"
    }
   ],
   "source": [
    "#deleting any rows with less than 93 percent filling\n",
    "shape = data.shape\n",
    "totalRows = shape[0]\n",
    "minFill = int(totalRows * .93)\n",
    "data.dropna(axis = 1, thresh=int(totalRows*.93), inplace=True)\n",
    "minFill"
   ]
  },
  {
   "cell_type": "code",
   "execution_count": 14,
   "metadata": {
    "collapsed": false
   },
   "outputs": [
    {
     "data": {
      "text/plain": [
       "(2268905, 170)"
      ]
     },
     "execution_count": 14,
     "metadata": {},
     "output_type": "execute_result"
    }
   ],
   "source": [
    "data.shape"
   ]
  },
  {
   "cell_type": "code",
   "execution_count": 15,
   "metadata": {
    "collapsed": false
   },
   "outputs": [
    {
     "data": {
      "text/plain": [
       "2268905"
      ]
     },
     "execution_count": 15,
     "metadata": {},
     "output_type": "execute_result"
    }
   ],
   "source": [
    "description = data.describe()\n",
    "dictDes = dict(description)\n",
    "shape = data.shape\n",
    "shape\n",
    "totalRows = shape[0]\n",
    "totalRows"
   ]
  },
  {
   "cell_type": "code",
   "execution_count": 16,
   "metadata": {
    "collapsed": false
   },
   "outputs": [
    {
     "data": {
      "text/plain": [
       "<matplotlib.text.Text at 0x11d91c080>"
      ]
     },
     "execution_count": 16,
     "metadata": {},
     "output_type": "execute_result"
    },
    {
     "data": {
      "image/png": "[encoded data removed]",
      "text/plain": [
       "<matplotlib.figure.Figure at 0x47d2c16a0>"
      ]
     },
     "metadata": {},
     "output_type": "display_data"
    }
   ],
   "source": [
    "percentValid = []\n",
    "sampleNames = []\n",
    "for key in list(dictDes.keys()):\n",
    "    percentValid.append(dictDes[key][0]/totalRows)\n",
    "    sampleNames.append(key)\n",
    "validMatrix = pandas.DataFrame(percentValid, sampleNames)\n",
    "validPlot = validMatrix[0].hist(bins = 20)\n",
    "validPlot.set_title(\"BSseq METSIM data by sample\")\n",
    "validPlot.set_xlabel(\"Percent Filled\")\n",
    "validPlot.set_ylabel(\"Samples\")"
   ]
  },
  {
   "cell_type": "code",
   "execution_count": 17,
   "metadata": {
    "collapsed": false
   },
   "outputs": [
    {
     "data": {
      "text/html": [
       "<div>\n",
       "<table border=\"1\" class=\"dataframe\">\n",
       "  <thead>\n",
       "    <tr style=\"text-align: right;\">\n",
       "      <th></th>\n",
       "      <th>0</th>\n",
       "    </tr>\n",
       "  </thead>\n",
       "  <tbody>\n",
       "    <tr>\n",
       "      <th>17:73083386</th>\n",
       "      <td>0.976471</td>\n",
       "    </tr>\n",
       "    <tr>\n",
       "      <th>22:50122802</th>\n",
       "      <td>1.000000</td>\n",
       "    </tr>\n",
       "    <tr>\n",
       "      <th>13:112848692</th>\n",
       "      <td>0.988235</td>\n",
       "    </tr>\n",
       "    <tr>\n",
       "      <th>20:2854354</th>\n",
       "      <td>1.000000</td>\n",
       "    </tr>\n",
       "    <tr>\n",
       "      <th>4:8197077</th>\n",
       "      <td>1.000000</td>\n",
       "    </tr>\n",
       "  </tbody>\n",
       "</table>\n",
       "</div>"
      ],
      "text/plain": [
       "                     0\n",
       "17:73083386   0.976471\n",
       "22:50122802   1.000000\n",
       "13:112848692  0.988235\n",
       "20:2854354    1.000000\n",
       "4:8197077     1.000000"
      ]
     },
     "execution_count": 17,
     "metadata": {},
     "output_type": "execute_result"
    }
   ],
   "source": [
    "totalColumns = data.shape[1]\n",
    "dCount = dict(data.count(axis=1))\n",
    "locusNames = []\n",
    "percentages = []\n",
    "for key in list(dCount.keys()):\n",
    "    locusNames.append(key)\n",
    "    percentages.append(dCount[key]/totalColumns)\n",
    "byLocus = pandas.DataFrame(percentages, locusNames)\n",
    "byLocus.head()"
   ]
  },
  {
   "cell_type": "code",
   "execution_count": 18,
   "metadata": {
    "collapsed": false
   },
   "outputs": [
    {
     "data": {
      "text/plain": [
       "<matplotlib.text.Text at 0x1253be8d0>"
      ]
     },
     "execution_count": 18,
     "metadata": {},
     "output_type": "execute_result"
    },
    {
     "data": {
      "image/png": "[encoded data removed]",
      "text/plain": [
       "<matplotlib.figure.Figure at 0x11bcd9f28>"
      ]
     },
     "metadata": {},
     "output_type": "display_data"
    }
   ],
   "source": [
    "validPlot2 = byLocus[0].hist(bins = 50)\n",
    "validPlot2.set_title(\"BSseq METSIM data by Locus\")\n",
    "validPlot2.set_xlabel(\"Percent Filled\")\n",
    "validPlot2.set_ylabel(\"Loci\")"
   ]
  },
  {
   "cell_type": "code",
   "execution_count": 19,
   "metadata": {
    "collapsed": false
   },
   "outputs": [
    {
     "data": {
      "text/plain": [
       "(1005419, 170)"
      ]
     },
     "execution_count": 19,
     "metadata": {},
     "output_type": "execute_result"
    }
   ],
   "source": [
    "data.dropna(axis = 0, how='any', inplace=True)\n",
    "data.shape"
   ]
  },
  {
   "cell_type": "code",
   "execution_count": 20,
   "metadata": {
    "collapsed": true
   },
   "outputs": [],
   "source": [
    "matrix = data.as_matrix()\n",
    "inverse = numpy.linalg.pinv(matrix)"
   ]
  },
  {
   "cell_type": "code",
   "execution_count": 21,
   "metadata": {
    "collapsed": false
   },
   "outputs": [
    {
     "data": {
      "text/plain": [
       "array([[  4.00610785e-06,  -9.48743757e-06,  -3.44530315e-05, ...,\n",
       "          5.90448797e-07,   2.39637386e-07,   1.41695745e-07],\n",
       "       [ -2.37804714e-05,  -8.44513402e-06,  -3.52814632e-05, ...,\n",
       "          5.48250595e-07,  -5.55747820e-07,   7.43639572e-08],\n",
       "       [  7.94115058e-07,  -2.27300839e-05,  -3.67214213e-06, ...,\n",
       "         -3.23728600e-07,   2.76030120e-07,   1.46947970e-07],\n",
       "       ..., \n",
       "       [ -8.00492889e-08,   1.90837833e-06,   6.73469751e-06, ...,\n",
       "         -3.35493321e-07,   1.18451460e-07,   1.12246967e-07],\n",
       "       [  4.13960886e-06,  -4.09930413e-08,   2.13299413e-05, ...,\n",
       "         -6.86456245e-07,  -6.17911976e-07,   1.27594096e-07],\n",
       "       [  4.07086225e-06,   2.15526290e-06,  -3.50185334e-05, ...,\n",
       "         -3.80032907e-07,   3.55597346e-07,  -4.25529680e-07]])"
      ]
     },
     "execution_count": 21,
     "metadata": {},
     "output_type": "execute_result"
    }
   ],
   "source": [
    "inverse"
   ]
  },
  {
   "cell_type": "code",
   "execution_count": 22,
   "metadata": {
    "collapsed": false
   },
   "outputs": [
    {
     "data": {
      "text/plain": [
       "(170, 1005419)"
      ]
     },
     "execution_count": 22,
     "metadata": {},
     "output_type": "execute_result"
    }
   ],
   "source": [
    "inverse.shape"
   ]
  },
  {
   "cell_type": "code",
   "execution_count": null,
   "metadata": {
    "collapsed": true
   },
   "outputs": [],
   "source": []
  }
 ],
 "metadata": {
  "kernelspec": {
   "display_name": "Python 3",
   "language": "python",
   "name": "python3"
  },
  "language_info": {
   "codemirror_mode": {
    "name": "ipython",
    "version": 3
   },
   "file_extension": ".py",
   "mimetype": "text/x-python",
   "name": "python",
   "nbconvert_exporter": "python",
   "pygments_lexer": "ipython3",
   "version": "3.4.3"
  }
 },
 "nbformat": 4,
 "nbformat_minor": 0
}
